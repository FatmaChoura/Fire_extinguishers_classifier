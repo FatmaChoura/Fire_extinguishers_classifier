{
 "cells": [
  {
   "cell_type": "code",
   "execution_count": 1,
   "metadata": {},
   "outputs": [
    {
     "name": "stderr",
     "output_type": "stream",
     "text": [
      "Using TensorFlow backend.\n"
     ]
    }
   ],
   "source": [
    "\n",
    "# Importing necessary functions \n",
    "from keras.preprocessing.image import ImageDataGenerator, array_to_img, img_to_array, load_img \n",
    "import glob\n",
    "from PIL import Image\n",
    "import matplotlib.pyplot as plt"
   ]
  },
  {
   "cell_type": "code",
   "execution_count": 2,
   "metadata": {},
   "outputs": [],
   "source": [
    "datagen = ImageDataGenerator( \n",
    "        rotation_range = 40, \n",
    "        shear_range = 0.2, \n",
    "        zoom_range = 0.2, \n",
    "        horizontal_flip = True, \n",
    "        brightness_range = (0.5, 1.5))"
   ]
  },
  {
   "cell_type": "code",
   "execution_count": 5,
   "metadata": {},
   "outputs": [],
   "source": [
    "files = glob.glob(\"C:/Users/Fatma/Documents/entretien/jeu de données/all-data/water/*.jpeg\")\n",
    "for file in files:\n",
    "    img = Image.open(file)\n",
    "    x = img_to_array(img) \n",
    "    # Reshaping the input image \n",
    "    x = x.reshape((1, ) + x.shape)  \n",
    "   \n",
    "    # Generating and saving 5 augmented samples  \n",
    "    # using the above defined parameters.  \n",
    "    i = 0\n",
    "    for batch in datagen.flow(x, batch_size = 1, \n",
    "                          save_to_dir ='C:/Users/Fatma/Documents/entretien/jeu de données/all_data/water_',  \n",
    "                          save_prefix ='image', save_format ='jpeg'): \n",
    "        i += 1\n",
    "        if i > 5: \n",
    "            break\n",
    "\n"
   ]
  },
  {
   "cell_type": "code",
   "execution_count": null,
   "metadata": {},
   "outputs": [],
   "source": []
  }
 ],
 "metadata": {
  "kernelspec": {
   "display_name": "Python 3",
   "language": "python",
   "name": "python3"
  },
  "language_info": {
   "codemirror_mode": {
    "name": "ipython",
    "version": 3
   },
   "file_extension": ".py",
   "mimetype": "text/x-python",
   "name": "python",
   "nbconvert_exporter": "python",
   "pygments_lexer": "ipython3",
   "version": "3.7.4"
  }
 },
 "nbformat": 4,
 "nbformat_minor": 2
}
